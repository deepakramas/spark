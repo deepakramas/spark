{
 "metadata": {
  "name": "",
  "signature": "sha256:4f685e6165e89ab13ec37a46042b9cd9bfdad6911df639c40934c245da8d4af9"
 },
 "nbformat": 3,
 "nbformat_minor": 0,
 "worksheets": [
  {
   "cells": [
    {
     "cell_type": "heading",
     "level": 1,
     "metadata": {},
     "source": [
      "K-means clustering of trivial dataset using Spark and MLLIB"
     ]
    },
    {
     "cell_type": "markdown",
     "metadata": {},
     "source": [
      "Reference: <a href=\"cs.berkeley.edu/~rxin/ampcap-ecnu/maching-learning-with-spark.html\"> AMPlab ML tutorial </a>"
     ]
    },
    {
     "cell_type": "markdown",
     "metadata": {},
     "source": [
      "Reference: <a href=\"archive.ics.uci.edu/ml/datasets/seeds\"> Seeds dataset from UCI </a>"
     ]
    },
    {
     "cell_type": "heading",
     "level": 3,
     "metadata": {},
     "source": [
      "Hadoop RDD of 'Seeds' dataset in HDFS"
     ]
    },
    {
     "cell_type": "code",
     "collapsed": false,
     "input": [
      "data = sc.textFile('seeds_dataset.txt')\n",
      "data.cache()"
     ],
     "language": "python",
     "metadata": {},
     "outputs": [
      {
       "metadata": {},
       "output_type": "pyout",
       "prompt_number": 155,
       "text": [
        "MappedRDD[298] at textFile at NativeMethodAccessorImpl.java:-2"
       ]
      }
     ],
     "prompt_number": 155
    },
    {
     "cell_type": "heading",
     "level": 3,
     "metadata": {},
     "source": [
      "Had to fix tabs in dataset prior to placing in HDFS and reading"
     ]
    },
    {
     "cell_type": "code",
     "collapsed": false,
     "input": [
      "data.take(8)"
     ],
     "language": "python",
     "metadata": {},
     "outputs": [
      {
       "metadata": {},
       "output_type": "pyout",
       "prompt_number": 156,
       "text": [
        "[u'15.26\\t14.84\\t0.871\\t5.763\\t3.312\\t2.221\\t5.22\\t1',\n",
        " u'14.88\\t14.57\\t0.8811\\t5.554\\t3.333\\t1.018\\t4.956\\t1',\n",
        " u'14.29\\t14.09\\t0.905\\t5.291\\t3.337\\t2.699\\t4.825\\t1',\n",
        " u'13.84\\t13.94\\t0.8955\\t5.324\\t3.379\\t2.259\\t4.805\\t1',\n",
        " u'16.14\\t14.99\\t0.9034\\t5.658\\t3.562\\t1.355\\t5.175\\t1',\n",
        " u'14.38\\t14.21\\t0.8951\\t5.386\\t3.312\\t2.462\\t4.956\\t1',\n",
        " u'14.69\\t14.49\\t0.8799\\t5.563\\t3.259\\t3.586\\t5.219\\t1',\n",
        " u'14.11\\t14.1\\t0.8911\\t5.42\\t3.302\\t2.7\\t5\\t1']"
       ]
      }
     ],
     "prompt_number": 156
    },
    {
     "cell_type": "heading",
     "level": 3,
     "metadata": {},
     "source": [
      "Read into RDD, 'myRdd' as a list of tuples"
     ]
    },
    {
     "cell_type": "code",
     "collapsed": false,
     "input": [
      "def get_tuple(x) :\n",
      "    y = x.split('\\t')\n",
      "    return float(y[0]), float(y[1]), float(y[2]), float(y[3]), float(y[4]), float(y[5]), float(y[6]) \n",
      "myRdd = data.flatMap(lambda x: x.split(',')).map(get_tuple)"
     ],
     "language": "python",
     "metadata": {},
     "outputs": [],
     "prompt_number": 188
    },
    {
     "cell_type": "heading",
     "level": 3,
     "metadata": {},
     "source": [
      "K = 5 clusters. Initialize centroids to random points"
     ]
    },
    {
     "cell_type": "code",
     "collapsed": false,
     "input": [
      "K = 5\n",
      "centroids = myRdd.takeSample(True,K)"
     ],
     "language": "python",
     "metadata": {},
     "outputs": [],
     "prompt_number": 282
    },
    {
     "cell_type": "heading",
     "level": 3,
     "metadata": {},
     "source": [
      "print out number of records"
     ]
    },
    {
     "cell_type": "code",
     "collapsed": false,
     "input": [
      "myRdd.count()"
     ],
     "language": "python",
     "metadata": {},
     "outputs": [
      {
       "metadata": {},
       "output_type": "pyout",
       "prompt_number": 283,
       "text": [
        "210"
       ]
      }
     ],
     "prompt_number": 283
    },
    {
     "cell_type": "heading",
     "level": 3,
     "metadata": {},
     "source": [
      "Unpersist 'data'. We don't need it to be in cache anymore since we have 'myRdd'"
     ]
    },
    {
     "cell_type": "code",
     "collapsed": false,
     "input": [
      "data.unpersist()"
     ],
     "language": "python",
     "metadata": {},
     "outputs": [
      {
       "metadata": {},
       "output_type": "pyout",
       "prompt_number": 284,
       "text": [
        "MappedRDD[298] at textFile at NativeMethodAccessorImpl.java:-2"
       ]
      }
     ],
     "prompt_number": 284
    },
    {
     "cell_type": "heading",
     "level": 3,
     "metadata": {},
     "source": [
      "Define routines-\n",
      "closestPoint: Determine closest cluster center for given point AND\n",
      "averager: determine centroid for a cluster"
     ]
    },
    {
     "cell_type": "code",
     "collapsed": false,
     "input": [
      "import numpy as np\n",
      "def closestPoint(p, centers):\n",
      "    bestIndex = 0\n",
      "    closestDist = float(\"+inf\")\n",
      "    for i in range(len(centers)):\n",
      "        dist = np.sum((np.array(p)-np.array(centers[i]))**2)\n",
      "        if dist < closestDist:\n",
      "            closestDist = dist\n",
      "            bestIndex = i\n",
      "    return bestIndex\n",
      "convergeDist = 1e-6\n",
      "def averager(x):\n",
      "    x = list(x);\n",
      "    t = np.array(x[0])\n",
      "    numVectors = len(x)\n",
      "    for i in range(1,numVectors):\n",
      "        t += np.array(x[i])\n",
      "    t /= (1.0*numVectors)\n",
      "    return t"
     ],
     "language": "python",
     "metadata": {},
     "outputs": [],
     "prompt_number": 285
    },
    {
     "cell_type": "heading",
     "level": 3,
     "metadata": {},
     "source": [
      "Simple iteration to get converged centroids"
     ]
    },
    {
     "cell_type": "code",
     "collapsed": false,
     "input": [
      "tempDist = convergeDist + 1\n",
      "while tempDist > convergeDist:\n",
      "    closest = myRdd.map(lambda y: (closestPoint(y,centroids),y))\n",
      "    pointsGroup = closest.groupByKey()\n",
      "    newCentroids = pointsGroup.mapValues(averager).collectAsMap()\n",
      "    tempDist = sum(np.sum((centroids[x] - y)**2) for (x,y) in newCentroids.iteritems())\n",
      "    for (x,y) in newCentroids.iteritems():\n",
      "        centroids[x] = y\n",
      "    print \"Finished iteration, delta = \" + str(tempDist)"
     ],
     "language": "python",
     "metadata": {},
     "outputs": [
      {
       "output_type": "stream",
       "stream": "stdout",
       "text": [
        "Finished iteration, delta = 7.65171473024\n",
        "Finished iteration, delta = 0.376564886783"
       ]
      },
      {
       "output_type": "stream",
       "stream": "stdout",
       "text": [
        "\n",
        "Finished iteration, delta = 0.149968545909"
       ]
      },
      {
       "output_type": "stream",
       "stream": "stdout",
       "text": [
        "\n",
        "Finished iteration, delta = 0.214016983088"
       ]
      },
      {
       "output_type": "stream",
       "stream": "stdout",
       "text": [
        "\n",
        "Finished iteration, delta = 0.0926117501724"
       ]
      },
      {
       "output_type": "stream",
       "stream": "stdout",
       "text": [
        "\n",
        "Finished iteration, delta = 0.0564562195264"
       ]
      },
      {
       "output_type": "stream",
       "stream": "stdout",
       "text": [
        "\n",
        "Finished iteration, delta = 0.0407330929625"
       ]
      },
      {
       "output_type": "stream",
       "stream": "stdout",
       "text": [
        "\n",
        "Finished iteration, delta = 0.0340244633716"
       ]
      },
      {
       "output_type": "stream",
       "stream": "stdout",
       "text": [
        "\n",
        "Finished iteration, delta = 0.036540556746"
       ]
      },
      {
       "output_type": "stream",
       "stream": "stdout",
       "text": [
        "\n",
        "Finished iteration, delta = 0.033242319543"
       ]
      },
      {
       "output_type": "stream",
       "stream": "stdout",
       "text": [
        "\n",
        "Finished iteration, delta = 0.0"
       ]
      },
      {
       "output_type": "stream",
       "stream": "stdout",
       "text": [
        "\n"
       ]
      }
     ],
     "prompt_number": 286
    },
    {
     "cell_type": "heading",
     "level": 3,
     "metadata": {},
     "source": [
      "How many points per centroid?"
     ]
    },
    {
     "cell_type": "code",
     "collapsed": false,
     "input": [
      "centroids = np.sort(centroids,axis=0)\n",
      "myRdd.map(lambda y: (closestPoint(y,centroids),y)).countByKey().items()"
     ],
     "language": "python",
     "metadata": {},
     "outputs": [
      {
       "metadata": {},
       "output_type": "pyout",
       "prompt_number": 287,
       "text": [
        "[(0, 14), (1, 68), (2, 50), (3, 45), (4, 33)]"
       ]
      }
     ],
     "prompt_number": 287
    },
    {
     "cell_type": "heading",
     "level": 3,
     "metadata": {},
     "source": [
      "Print centroids"
     ]
    },
    {
     "cell_type": "code",
     "collapsed": false,
     "input": [
      "centroids"
     ],
     "language": "python",
     "metadata": {},
     "outputs": [
      {
       "metadata": {},
       "output_type": "pyout",
       "prompt_number": 294,
       "text": [
        "array([[ 11.9847619 ,  13.29357143,   0.85079524,   5.21637209,\n",
        "          2.8797381 ,   2.33398261,   5.01051163],\n",
        "       [ 12.0744186 ,  13.30372093,   0.85674884,   5.24138095,\n",
        "          2.89774419,   3.39416279,   5.10017391],\n",
        "       [ 14.51130435,  14.38347826,   0.87826452,   5.54047826,\n",
        "          3.26719565,   3.46041667,   5.12197619],\n",
        "       [ 16.40806452,  15.31935484,   0.88107826,   5.86396774,\n",
        "          3.46332258,   3.85009677,   5.69045161],\n",
        "       [ 19.15104167,  16.46916667,   0.88708958,   6.26885417,\n",
        "          3.7729375 ,   5.6732619 ,   6.12725   ]])"
       ]
      }
     ],
     "prompt_number": 294
    },
    {
     "cell_type": "heading",
     "level": 2,
     "metadata": {},
     "source": [
      "Compare with Spark's MLLIB"
     ]
    },
    {
     "cell_type": "code",
     "collapsed": false,
     "input": [
      "from pyspark.mllib.clustering import KMeans\n",
      "from numpy import array\n",
      "from math import sqrt\n",
      "arrayData = np.array(myRdd.collect())\n",
      "clusters = KMeans.train(sc.parallelize(arrayData), K, maxIterations=30, runs=4,initializationMode=\"random\")"
     ],
     "language": "python",
     "metadata": {},
     "outputs": [],
     "prompt_number": 289
    },
    {
     "cell_type": "heading",
     "level": 3,
     "metadata": {},
     "source": [
      "Print centroids"
     ]
    },
    {
     "cell_type": "code",
     "collapsed": false,
     "input": [
      "clusterCenters = np.sort(clusters.clusterCenters,axis=0)\n",
      "clusterCenters"
     ],
     "language": "python",
     "metadata": {},
     "outputs": [
      {
       "metadata": {},
       "output_type": "pyout",
       "prompt_number": 292,
       "text": [
        "array([[ 11.93627451,  13.28196078,   0.84902353,   5.21045714,\n",
        "          2.86372549,   2.36308571,   4.97625714],\n",
        "       [ 12.18828571,  13.33085714,   0.86128571,   5.24192157,\n",
        "          2.92937143,   3.08614286,   5.12133333],\n",
        "       [ 14.66265306,  14.46081633,   0.8787963 ,   5.57030612,\n",
        "          3.28106122,   3.46041667,   5.15169388],\n",
        "       [ 16.47851852,  15.34777778,   0.88074898,   5.86807407,\n",
        "          3.47614815,   4.06477778,   5.69618519],\n",
        "       [ 19.15104167,  16.46916667,   0.88708958,   6.26885417,\n",
        "          3.7729375 ,   5.43896078,   6.12725   ]])"
       ]
      }
     ],
     "prompt_number": 292
    },
    {
     "cell_type": "heading",
     "level": 4,
     "metadata": {},
     "source": [
      "numbers look similar to self-coded method above"
     ]
    },
    {
     "cell_type": "heading",
     "level": 3,
     "metadata": {},
     "source": [
      "How may points per centroid?"
     ]
    },
    {
     "cell_type": "code",
     "collapsed": false,
     "input": [
      "myRdd.map(lambda y: (closestPoint(y,clusterCenters),y)).countByKey().items()"
     ],
     "language": "python",
     "metadata": {},
     "outputs": [
      {
       "metadata": {},
       "output_type": "pyout",
       "prompt_number": 293,
       "text": [
        "[(0, 11), (1, 71), (2, 54), (3, 37), (4, 37)]"
       ]
      }
     ],
     "prompt_number": 293
    },
    {
     "cell_type": "heading",
     "level": 4,
     "metadata": {},
     "source": [
      "numbers are similar to self-coded method above"
     ]
    }
   ],
   "metadata": {}
  }
 ]
}